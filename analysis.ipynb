{
 "metadata": {
  "name": "",
  "signature": "sha256:e243a443cbefe8ac8a9d9f2eafa09c43c4f6cfae7c5fb323dc0d3bfd83c1f2bc"
 },
 "nbformat": 3,
 "nbformat_minor": 0,
 "worksheets": [
  {
   "cells": [
    {
     "cell_type": "markdown",
     "metadata": {},
     "source": [
      "# Minecraft Natural Resource Analysis\n",
      "\n",
      "**Shepherdstown Elementary School Science Fair**\n",
      "\n",
      "**Project Team**\n",
      "* Weilun Thatcher\n",
      "* Matt Geyes\n",
      "* Thatcher & Geyes Family\n",
      "\n",
      "#### Abstract\n",
      "\n",
      "> *Minecraft is a 3D digital Lego-like playground that kid's can interact with.  \n",
      "Crafting new structures with raw materials that they mine from the world's \n",
      "natural resources, Minecraft becomes a great platform to introduce young \n",
      "scientists to Computer Science and Natural Science concepts while leveraging\n",
      "their love of Minecraft.*\n",
      "\n",
      "> *We will be focused on 3rd grade level concepts of Statistics, introducing\n",
      "important concepts related to counting and percentages, but there is a clear\n",
      "cross over to Geology and understanding natural resources, why some things\n",
      "are considered rare and valuable, and why common resources are used for buildings \n",
      "and roads.*\n",
      "\n",
      "> *Many other important scientific skillsets are used behind the scenes and may\n",
      "be of interest for olders students, including Computer Programming with Python,\n",
      "Data Science concepts like \"Reproducible Research\", and Engineering with \n",
      "inexpensive, highly available electronics components like Raspberry Pi.*\n",
      "\n",
      "## Phase I - Data Collection"
     ]
    },
    {
     "cell_type": "code",
     "collapsed": false,
     "input": [],
     "language": "python",
     "metadata": {},
     "outputs": []
    }
   ],
   "metadata": {}
  }
 ]
}